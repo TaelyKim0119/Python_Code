{
 "cells": [
  {
   "attachments": {},
   "cell_type": "markdown",
   "metadata": {},
   "source": [
    "### 기본 문법 복습 1"
   ]
  },
  {
   "attachments": {},
   "cell_type": "markdown",
   "metadata": {},
   "source": [
    "- if\n",
    "- for\n",
    "- list comprehension\n",
    "- zip, enumerate"
   ]
  },
  {
   "cell_type": "code",
   "execution_count": null,
   "metadata": {},
   "outputs": [],
   "source": []
  },
  {
   "attachments": {},
   "cell_type": "markdown",
   "metadata": {},
   "source": [
    "#### if 연습문제"
   ]
  },
  {
   "attachments": {},
   "cell_type": "markdown",
   "metadata": {},
   "source": [
    "1. 아래 코드의 결과를 예상해보세요\n",
    "<pre>\n",
    "<code>\n",
    "if 4 < 3:\n",
    "    print(\"Hello World\")\n",
    "</code>\n",
    "</pre>"
   ]
  },
  {
   "attachments": {},
   "cell_type": "markdown",
   "metadata": {},
   "source": [
    "if 4<3:\n",
    "    print(\"hello World\")"
   ]
  },
  {
   "attachments": {},
   "cell_type": "markdown",
   "metadata": {},
   "source": [
    "2. 아래 코드의 출력 결과를 예상해보세요\n",
    "<pre>\n",
    "<code>\n",
    "if 4 < 3:\n",
    "    print(\"Hello World.\")\n",
    "else:\n",
    "    print(\"Hi, there.\")\n",
    "</code>\n",
    "</pre>"
   ]
  },
  {
   "cell_type": "markdown",
   "metadata": {},
   "source": []
  },
  {
   "cell_type": "markdown",
   "metadata": {},
   "source": [
    "3. 아래 코드의 출력 결과를 예상해보세요\n",
    "<pre>\n",
    "<code>\n",
    "if True :\n",
    "    print (\"1\")\n",
    "    print (\"2\")\n",
    "else :\n",
    "    print(\"3\")\n",
    "print(\"4\")\n",
    "</code>\n",
    "</pre>"
   ]
  },
  {
   "cell_type": "markdown",
   "metadata": {},
   "source": []
  },
  {
   "cell_type": "markdown",
   "metadata": {},
   "source": [
    "4. 아래 코드의 출력 결과를 예상해보세요\n",
    "<pre>\n",
    "<code>\n",
    "if True :\n",
    "    if False:\n",
    "        print(\"1\")\n",
    "        print(\"2\")\n",
    "    else:\n",
    "        print(\"3\")\n",
    "else :\n",
    "    print(\"4\")\n",
    "print(\"5\")\n",
    "</code>\n",
    "</pre>"
   ]
  },
  {
   "cell_type": "markdown",
   "metadata": {},
   "source": []
  },
  {
   "attachments": {},
   "cell_type": "markdown",
   "metadata": {},
   "source": [
    "5. 사용자로부터 숫자를 입력 받고 짝수/홀수를 판단해서 알려주세요\\\n",
    "\\\n",
    "입력값: 30\\\n",
    "짝수\\\n",
    "\\\n",
    "입력값을 받는 코드는 user = input('입력값: ') 을 사용합니다."
   ]
  },
  {
   "cell_type": "code",
   "execution_count": null,
   "metadata": {},
   "outputs": [],
   "source": []
  },
  {
   "attachments": {},
   "cell_type": "markdown",
   "metadata": {},
   "source": [
    "6. 사용자로부터 숫자를 입력받은 후, 그 값에 20을 더한 값을 출력합니다. 단, 출력할 값이 250을 초과하는 경우 250을 출력합니다.\\\n",
    "\\\n",
    "입력값: 200\\\n",
    "출력값: 220\\\n",
    "\\\n",
    "입력값: 240\\\n",
    "출력값: 250"
   ]
  },
  {
   "cell_type": "code",
   "execution_count": null,
   "metadata": {},
   "outputs": [],
   "source": []
  },
  {
   "attachments": {},
   "cell_type": "markdown",
   "metadata": {},
   "source": [
    "7. 사용자로부터 숫자를 입력받은 후, 그 값에 20을 뺀 값을 출력합니다. 단, 출력할 값이 0보다 작을 경우 0을 출력하고, 250보다 클 경우 250을 출력합니다.\\\n",
    "\\\n",
    "입력값: 200\\\n",
    "출력값: 180\\\n",
    "\\\n",
    "입력값: 15\\\n",
    "출력값: 0"
   ]
  },
  {
   "cell_type": "code",
   "execution_count": null,
   "metadata": {},
   "outputs": [],
   "source": []
  },
  {
   "attachments": {},
   "cell_type": "markdown",
   "metadata": {},
   "source": [
    "8. 사용자로부터 입력 받은 시간이 정각인지 아닌지 판단해 출력해보세요\\\n",
    "\\\n",
    "단, 입력값은 08:11, 09:01, 01:00 과 같은 형식으로 입력되어야 합니다(힌트: 문자열 슬라이스)"
   ]
  },
  {
   "cell_type": "code",
   "execution_count": null,
   "metadata": {},
   "outputs": [],
   "source": []
  },
  {
   "attachments": {},
   "cell_type": "markdown",
   "metadata": {},
   "source": [
    "9. 사용자로 입력받은 단어가 아래 fruit 리스트에 포함되어 있는지를 확인한 후, 포함되었다면 정답입니다. 아닐경우 오답입니다. 를 출력하세요"
   ]
  },
  {
   "cell_type": "code",
   "execution_count": null,
   "metadata": {},
   "outputs": [],
   "source": [
    "fruit = [\"사과\", \"포도\", \"홍시\"]"
   ]
  },
  {
   "cell_type": "code",
   "execution_count": null,
   "metadata": {},
   "outputs": [],
   "source": []
  },
  {
   "attachments": {},
   "cell_type": "markdown",
   "metadata": {},
   "source": [
    "10. 투자 경고 종목 리스트가 있을 때 사용자로부터 종목명을 입력 받은 후\\\n",
    "해당 종목이 투자 경고 종목이라면 '투자 경고 종목입니다'를 아니면 \"투자 경고 종목이 아닙니다.\"를 출력해보세요"
   ]
  },
  {
   "cell_type": "code",
   "execution_count": null,
   "metadata": {},
   "outputs": [],
   "source": [
    "warn_investment_list = [\"Microsoft\", \"Google\", \"Naver\", \"Kakao\", \"SAMSUNG\", \"LG\"]"
   ]
  },
  {
   "cell_type": "code",
   "execution_count": null,
   "metadata": {},
   "outputs": [],
   "source": []
  },
  {
   "attachments": {},
   "cell_type": "markdown",
   "metadata": {},
   "source": [
    "11. 아래와 같은 fruit 딕셔너리를 사용해서, 사용자가 입력한 값이 딕셔너리 키 (key) 값에 포함되었다면 \"정답입니다\"를 아닐 경우 \"오답입니다\" 출력하세요\\\n",
    "(힌트: 입력시 user = input('좋아하는계절: ') 를 사용하세요)"
   ]
  },
  {
   "cell_type": "code",
   "execution_count": null,
   "metadata": {},
   "outputs": [],
   "source": [
    "fruit = {\"봄\" : \"딸기\", \"여름\" : \"토마토\", \"가을\" : \"사과\"}"
   ]
  },
  {
   "cell_type": "code",
   "execution_count": null,
   "metadata": {},
   "outputs": [],
   "source": []
  },
  {
   "attachments": {},
   "cell_type": "markdown",
   "metadata": {},
   "source": [
    "12. 아까와 같은 fruit 딕셔너리를 사용해서, 사용자가 입력한 값이 딕셔너리 값 (values)에 포함되었다면 \"정답입니다\"를 아닐 경우 \"오답입니다\" 출력하세요\\\n",
    "(힌트: 입력시 user = input('좋아하는 과일: ') 를 사용하세요)"
   ]
  },
  {
   "cell_type": "code",
   "execution_count": null,
   "metadata": {},
   "outputs": [],
   "source": []
  },
  {
   "attachments": {},
   "cell_type": "markdown",
   "metadata": {},
   "source": [
    "13. 사용자로부터 문자 한 개를 입력 받고, 소문자일 경우 대문자로, 대문자 일 경우, 소문자로 변경해서 출력해보세요\\\n",
    "\\\n",
    "(힌트1: islower()는 소문자 여부를 판단합니다. 소문자일 경우  True, 대문자일 경우 False를 반환합니다.)\\\n",
    "(힌트2: upper() 함수는 대문자로, lower() 함수는 소문자로 변경합니다.)\\"
   ]
  },
  {
   "cell_type": "code",
   "execution_count": null,
   "metadata": {},
   "outputs": [],
   "source": []
  },
  {
   "attachments": {},
   "cell_type": "markdown",
   "metadata": {},
   "source": [
    "14. 점수 구간에 해당하는 학점은 아래와 같습니다. 사용자로부터 입력받은 score에 대한 학점을 출력해보세요\\\n",
    "\\\n",
    "81~100\tA\\\n",
    "61~80\tB\\\n",
    "41~60\tC\\\n",
    "21~40\tD\\\n",
    "0~20\tE\\\n",
    "\\\n",
    "예시\\\n",
    "score: 83\\\n",
    "grade is A"
   ]
  },
  {
   "cell_type": "code",
   "execution_count": null,
   "metadata": {},
   "outputs": [],
   "source": []
  },
  {
   "attachments": {},
   "cell_type": "markdown",
   "metadata": {},
   "source": [
    "15. 사용자로부터 달러, 엔, 유로, 또는 위안 금액을 입력받은 후 이를 원으로 변환하는 프로그램을 작성해야 합니다.\\\n",
    "사용자는 100 달러, 1000 엔, 13 유로, 100 위안과 같이 금액과 통화명 사이에 공백을 넣어 입력한다고 가정합니다.\\\n",
    "\\\n",
    "달러\t1167\\\n",
    "엔\t1.096\\\n",
    "유로\t1268\\\n",
    "위안\t171\\\n",
    "\\\n",
    "입력: 100 달러\\\n",
    "116700.00 원"
   ]
  },
  {
   "cell_type": "code",
   "execution_count": null,
   "metadata": {},
   "outputs": [],
   "source": []
  },
  {
   "attachments": {},
   "cell_type": "markdown",
   "metadata": {},
   "source": [
    "16. 휴대폰 번호 앞자리에 따라 통신사는 아래와 같이 구분됩니다. 사용자로부터 휴대전화 번호를 입력 받고, 통신사를 출력하는 프로그램을 작성합니다.\\\n",
    "\\\n",
    "011\tSKT\\\n",
    "016\tKT\\\n",
    "019\tLGU\\\n",
    "010\t알수없음\\\n",
    "\\\n",
    "예시\\\n",
    "휴대전화 번호 입력: 011-345-1922\\\n",
    "당신은 SKT 사용자입니다.\\\n",
    "\\\n",
    "print코드는 다음 코드를 사용합니다: print(f'당신은 {com} 사용자입니다.')"
   ]
  },
  {
   "cell_type": "code",
   "execution_count": null,
   "metadata": {},
   "outputs": [],
   "source": []
  },
  {
   "attachments": {},
   "cell_type": "markdown",
   "metadata": {},
   "source": [
    "17. 우편번호는 5자리로 구성되는데, 앞의 세자리는 구를 나타냅니다. 예를들어, 강북구의 경우 010, 011, 012 세 자리로 시작합니다.\\\n",
    "사용자로 부터 5자리 우편번호를 입력받고 구를 판단하세요\\\n",
    "\\\n",
    "\t01\\\n",
    "0\t강북구\\\n",
    "1\t강북구\\\n",
    "2\t강북구\\\n",
    "3\t도봉구\\\n",
    "4\t도봉구\\\n",
    "5\t도봉구\\\n",
    "6\t노원구\\\n",
    "7\t노원구\\\n",
    "8\t노원구\\\n",
    "9\t노원구\\\n",
    "\\\n",
    "예시\\\n",
    "우편번호: 01400\\\n",
    "도봉구"
   ]
  },
  {
   "cell_type": "code",
   "execution_count": null,
   "metadata": {},
   "outputs": [],
   "source": []
  },
  {
   "attachments": {},
   "cell_type": "markdown",
   "metadata": {},
   "source": [
    "#### for 연습문제"
   ]
  },
  {
   "attachments": {},
   "cell_type": "markdown",
   "metadata": {},
   "source": [
    "1. 다음 코드를 for 문으로 작성해보세요\n",
    "<pre>\n",
    "<code>\n",
    "print(10)\n",
    "print(\"-------\")\n",
    "print(20)\n",
    "print(\"-------\")\n",
    "print(30)\n",
    "print(\"-------\")\n",
    "</code>\n",
    "</pre>"
   ]
  },
  {
   "cell_type": "code",
   "execution_count": null,
   "metadata": {},
   "outputs": [],
   "source": []
  },
  {
   "attachments": {},
   "cell_type": "markdown",
   "metadata": {},
   "source": [
    "2. 다음 코드를 for문으로 작성해보세요\n",
    "<pre>\n",
    "<code>\n",
    "print(\"-------\")\n",
    "print(\"-------\")\n",
    "print(\"-------\")\n",
    "print(\"-------\")\n",
    "</code>\n",
    "</pre>"
   ]
  },
  {
   "cell_type": "code",
   "execution_count": null,
   "metadata": {},
   "outputs": [],
   "source": []
  },
  {
   "attachments": {},
   "cell_type": "markdown",
   "metadata": {},
   "source": [
    "3. 다음 리스트에 저장된 문자열의 길이를 다음과 같이 출력해보세요.\\\n",
    "\\\n",
    "6\\\n",
    "4\\\n",
    "4"
   ]
  },
  {
   "cell_type": "code",
   "execution_count": null,
   "metadata": {},
   "outputs": [],
   "source": [
    "리스트 = [\"SK하이닉스\", \"삼성전자\", \"LG전자\"]"
   ]
  },
  {
   "cell_type": "code",
   "execution_count": null,
   "metadata": {},
   "outputs": [],
   "source": []
  },
  {
   "attachments": {},
   "cell_type": "markdown",
   "metadata": {},
   "source": [
    "4. 위 리스트를 다음과 같이 출력해보세요.\\\n",
    "\\\n",
    "SK하이닉스 6\\\n",
    "삼성전자 4\\\n",
    "LG전자 4\\"
   ]
  },
  {
   "cell_type": "code",
   "execution_count": null,
   "metadata": {},
   "outputs": [],
   "source": []
  },
  {
   "attachments": {},
   "cell_type": "markdown",
   "metadata": {},
   "source": [
    "5. 위 리스트를 다음과 같이 출력해보세요.\\\n",
    "\\\n",
    "LG전자\\\n",
    "삼성전자\\\n",
    "SK하이닉스"
   ]
  },
  {
   "cell_type": "code",
   "execution_count": null,
   "metadata": {},
   "outputs": [],
   "source": []
  },
  {
   "attachments": {},
   "cell_type": "markdown",
   "metadata": {},
   "source": [
    "6. 아래 리스트에서 for문을 이용해 음수만 출력해보세요.\\\n",
    "(힌트: if도 함께 사용합니다)"
   ]
  },
  {
   "cell_type": "code",
   "execution_count": null,
   "metadata": {},
   "outputs": [],
   "source": [
    "리스트 = [3, -20, -3, 44]"
   ]
  },
  {
   "cell_type": "code",
   "execution_count": null,
   "metadata": {},
   "outputs": [],
   "source": []
  },
  {
   "attachments": {},
   "cell_type": "markdown",
   "metadata": {},
   "source": [
    "7. 리스트에서 20보다 작은 3의 배수를 출력해보세요."
   ]
  },
  {
   "cell_type": "code",
   "execution_count": null,
   "metadata": {},
   "outputs": [],
   "source": [
    "리스트 = [13, 21, 12, 14, 30, 18]"
   ]
  },
  {
   "cell_type": "code",
   "execution_count": null,
   "metadata": {},
   "outputs": [],
   "source": []
  },
  {
   "attachments": {},
   "cell_type": "markdown",
   "metadata": {},
   "source": [
    "8. 리스트에서 세글자 이상의 문자만을 화면에 출력해보세요."
   ]
  },
  {
   "cell_type": "code",
   "execution_count": null,
   "metadata": {},
   "outputs": [],
   "source": [
    "리스트 = [\"I\", \"study\", \"python\", \"language\", \"!\"]"
   ]
  },
  {
   "cell_type": "code",
   "execution_count": null,
   "metadata": {},
   "outputs": [],
   "source": []
  },
  {
   "attachments": {},
   "cell_type": "markdown",
   "metadata": {},
   "source": [
    "9. 리스트의 파일이름중 확장자가 .h나 .c인 파일을 출력해보세요"
   ]
  },
  {
   "cell_type": "code",
   "execution_count": null,
   "metadata": {},
   "outputs": [],
   "source": [
    "리스트 = ['intra.h', 'intra.c', 'define.h', 'run.py']"
   ]
  },
  {
   "cell_type": "code",
   "execution_count": null,
   "metadata": {},
   "outputs": [],
   "source": []
  },
  {
   "attachments": {},
   "cell_type": "markdown",
   "metadata": {},
   "source": [
    "10. 월드컵은 4년에 한 번 개최됩니다. range()를 사용하여 2002~2050년까지 중 월드컵이 개최되는 연도를 출력하세요."
   ]
  },
  {
   "cell_type": "code",
   "execution_count": null,
   "metadata": {},
   "outputs": [],
   "source": []
  },
  {
   "attachments": {},
   "cell_type": "markdown",
   "metadata": {},
   "source": [
    "11. 1~10까지의 숫자에 대해 모두 더한 값을 출력하는 프로그램을 for 문을 사용하여 작성하세요."
   ]
  },
  {
   "cell_type": "code",
   "execution_count": null,
   "metadata": {},
   "outputs": [],
   "source": []
  },
  {
   "attachments": {},
   "cell_type": "markdown",
   "metadata": {},
   "source": [
    "12. 1~10까지의 숫자 중 모든 홀수의 합을 출력하는 프로그램을 for 문을 사용하여 작성하세요."
   ]
  },
  {
   "cell_type": "code",
   "execution_count": null,
   "metadata": {},
   "outputs": [],
   "source": []
  },
  {
   "attachments": {},
   "cell_type": "markdown",
   "metadata": {},
   "source": [
    "13. 아래와 같이 리스트의 데이터를 출력하세요. for문과 range문을 사용해야 합니다.\\\n",
    "\\\n",
    "price_list = [32100, 32150, 32000, 32500]\\\n",
    "\\\n",
    "32100\\\n",
    "32150\\\n",
    "32000\\\n",
    "32500"
   ]
  },
  {
   "cell_type": "code",
   "execution_count": null,
   "metadata": {},
   "outputs": [],
   "source": []
  },
  {
   "attachments": {},
   "cell_type": "markdown",
   "metadata": {},
   "source": [
    "14. 5일간의 저가, 고가 정보가 저장된 리스트가 있습니다. 고가와 저가의 차를 변동폭이라고 정의할 때,\\\n",
    "low, high 두 개의 리스트를 사용해서 5일간의 변동폭을 volatility 리스트에 저장해보세요."
   ]
  },
  {
   "cell_type": "code",
   "execution_count": null,
   "metadata": {},
   "outputs": [],
   "source": [
    "low_prices  = [100, 200, 400, 800, 1000]\n",
    "high_prices = [150, 300, 430, 880, 1000]"
   ]
  },
  {
   "cell_type": "code",
   "execution_count": null,
   "metadata": {},
   "outputs": [],
   "source": []
  },
  {
   "attachments": {},
   "cell_type": "markdown",
   "metadata": {},
   "source": [
    "15. 리스트에 저장된 데이터를 아래와 같이 출력해보세요.\\\n",
    "\n",
    "<pre>\n",
    "<code>\n",
    "101 호\n",
    "102 호\n",
    "201 호\n",
    "202 호\n",
    "301 호\n",
    "302 호\n",
    "</code>\n",
    "</pre>"
   ]
  },
  {
   "cell_type": "code",
   "execution_count": null,
   "metadata": {},
   "outputs": [],
   "source": [
    "apart = [ [101, 102], [201, 202], [301, 302] ]"
   ]
  },
  {
   "cell_type": "code",
   "execution_count": null,
   "metadata": {},
   "outputs": [],
   "source": []
  },
  {
   "attachments": {},
   "cell_type": "markdown",
   "metadata": {},
   "source": [
    "16. ohlc 리스트에는 시가(open), 고가 (high), 저가 (low) , 종가(close)가 날짜별로 저장돼 있습니다. 종가가 150원보다 큰경우에만 종가를 출력하세요."
   ]
  },
  {
   "cell_type": "code",
   "execution_count": null,
   "metadata": {},
   "outputs": [],
   "source": [
    "ohlc = [[\"open\", \"high\", \"low\", \"close\"],\n",
    "        [100, 110, 70, 100],\n",
    "        [200, 210, 180, 190],\n",
    "        [300, 310, 300, 310]]"
   ]
  },
  {
   "attachments": {},
   "cell_type": "markdown",
   "metadata": {},
   "source": [
    "#### list comprehension 연습문제"
   ]
  },
  {
   "attachments": {},
   "cell_type": "markdown",
   "metadata": {},
   "source": [
    "다음 코드들을 list comprehension을 사용해 표현해 보세요."
   ]
  },
  {
   "cell_type": "code",
   "execution_count": null,
   "metadata": {},
   "outputs": [],
   "source": [
    "numbers = [1, 2, 3, 4, 5]\n",
    "result = []\n",
    "for n in numbers:\n",
    "    if n % 2 == 1:\n",
    "        result.append(n*2)"
   ]
  },
  {
   "cell_type": "code",
   "execution_count": null,
   "metadata": {},
   "outputs": [],
   "source": [
    "squares = []\n",
    "for n in range(10):\n",
    "    squares.append(n**2)"
   ]
  },
  {
   "attachments": {},
   "cell_type": "markdown",
   "metadata": {},
   "source": [
    "#### Zip & Enumerate 동작 참고 코드"
   ]
  },
  {
   "cell_type": "code",
   "execution_count": null,
   "metadata": {},
   "outputs": [],
   "source": [
    "Stati=[\"Italia\",\"Spagna\",\"Francia\"]\n",
    "Capitali=[\"Roma\",\"Madrid\",\"Parigi\"]\n",
    "for index,names in enumerate(Capitali):\n",
    "                             stati=Stati[index]\n",
    "                             print(f\"{names} is the capital of {stati}\")"
   ]
  },
  {
   "cell_type": "code",
   "execution_count": null,
   "metadata": {},
   "outputs": [],
   "source": [
    "Regioni=[\"Lazio\",\"Castiglia\",\"Ile De France\"]\n",
    "\n",
    "for capitale,regione,stato in zip(Capitali,Regioni,Stati):\n",
    "    print(f\"{capitale} is in the region of {regione} and it's the capital of {stato}\")"
   ]
  },
  {
   "cell_type": "code",
   "execution_count": null,
   "metadata": {},
   "outputs": [],
   "source": [
    "# import pandas as pd\n",
    "# pd.DataFrame(zip(Capitali,Regioni,Stati))"
   ]
  }
 ],
 "metadata": {
  "kernelspec": {
   "display_name": "base",
   "language": "python",
   "name": "python3"
  },
  "language_info": {
   "codemirror_mode": {
    "name": "ipython",
    "version": 3
   },
   "file_extension": ".py",
   "mimetype": "text/x-python",
   "name": "python",
   "nbconvert_exporter": "python",
   "pygments_lexer": "ipython3",
   "version": "3.9.13"
  },
  "orig_nbformat": 4
 },
 "nbformat": 4,
 "nbformat_minor": 2
}
